{
 "cells": [
  {
   "cell_type": "markdown",
   "id": "b9bfa751",
   "metadata": {},
   "source": [
    "##### Introducing SQL Magic"
   ]
  },
  {
   "cell_type": "code",
   "execution_count": null,
   "id": "30bdd91b",
   "metadata": {},
   "outputs": [],
   "source": [
    "\"\"\"\n",
    "Jupyter notebooks have a concept of Magic commands that can simplify working with Python.\n",
    "Your notebooks can have two types of magic commands.\n",
    "    1- Cell magics: Start with a bdouble %% sign and apply the entire cell.\n",
    "    2- Line magics: Start with a single % sign and apply to a particular line in a cell.\n",
    "    \n",
    "Their usage is of the format:\n",
    "    %magicname arguments\n",
    "    Ex: %sql select  * from tablename\n",
    "\"\"\""
   ]
  },
  {
   "cell_type": "code",
   "execution_count": null,
   "id": "138023ee",
   "metadata": {},
   "outputs": [],
   "source": []
  },
  {
   "cell_type": "code",
   "execution_count": null,
   "id": "4e7b96ab",
   "metadata": {},
   "outputs": [],
   "source": []
  },
  {
   "cell_type": "code",
   "execution_count": null,
   "id": "7f3fc6b5",
   "metadata": {},
   "outputs": [],
   "source": []
  },
  {
   "cell_type": "code",
   "execution_count": null,
   "id": "6660f500",
   "metadata": {},
   "outputs": [],
   "source": []
  },
  {
   "cell_type": "code",
   "execution_count": null,
   "id": "3eb09e96",
   "metadata": {},
   "outputs": [],
   "source": []
  },
  {
   "cell_type": "code",
   "execution_count": null,
   "id": "96c1abdb",
   "metadata": {},
   "outputs": [],
   "source": []
  },
  {
   "cell_type": "code",
   "execution_count": null,
   "id": "30b73367",
   "metadata": {},
   "outputs": [],
   "source": []
  },
  {
   "cell_type": "code",
   "execution_count": null,
   "id": "4272302a",
   "metadata": {},
   "outputs": [],
   "source": []
  },
  {
   "cell_type": "code",
   "execution_count": null,
   "id": "887d3554",
   "metadata": {},
   "outputs": [],
   "source": []
  }
 ],
 "metadata": {
  "kernelspec": {
   "display_name": "Python 3 (ipykernel)",
   "language": "python",
   "name": "python3"
  },
  "language_info": {
   "codemirror_mode": {
    "name": "ipython",
    "version": 3
   },
   "file_extension": ".py",
   "mimetype": "text/x-python",
   "name": "python",
   "nbconvert_exporter": "python",
   "pygments_lexer": "ipython3",
   "version": "3.9.12"
  }
 },
 "nbformat": 4,
 "nbformat_minor": 5
}
