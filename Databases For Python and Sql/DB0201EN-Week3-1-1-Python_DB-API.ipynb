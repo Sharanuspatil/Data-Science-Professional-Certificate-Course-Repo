{
 "cells": [
  {
   "cell_type": "markdown",
   "id": "1d26e467",
   "metadata": {},
   "source": [
    "#### Concepts of the Python DP API"
   ]
  },
  {
   "cell_type": "code",
   "execution_count": 1,
   "id": "d20c6f15",
   "metadata": {},
   "outputs": [
    {
     "data": {
      "text/plain": [
       "'\\n1-Connection Objects\\n    a- Database connections\\n    b- Manage transactions\\n\\n2- Cursor Objects\\n    a- Database Queries\\n\\n'"
      ]
     },
     "execution_count": 1,
     "metadata": {},
     "output_type": "execute_result"
    }
   ],
   "source": [
    "\"\"\"\n",
    "1-Connection Objects\n",
    "    a- Database connections\n",
    "    b- Manage transactions\n",
    "\n",
    "2- Cursor Objects\n",
    "    a- Database Queries\n",
    "    b- Scroll through result set\n",
    "    c- Retrieve results\n",
    "\"\"\""
   ]
  },
  {
   "cell_type": "markdown",
   "id": "46b0a003",
   "metadata": {},
   "source": [
    "#### What are Connection Methods ?"
   ]
  },
  {
   "cell_type": "code",
   "execution_count": null,
   "id": "1aea0266",
   "metadata": {},
   "outputs": [],
   "source": [
    "\"\"\"\n",
    "1- .cursor() ---> Which returns a new cursor object using the connection.\n",
    "2- .commit() ---> Which is used to commit any pending transaction to the database.\n",
    "3- .rollback() ---> Which causes the database to roll back to the start of any pending transaction.\n",
    "4- .close() ---> Which is used to close a database connection.\n",
    "\"\"\""
   ]
  },
  {
   "cell_type": "code",
   "execution_count": 11,
   "id": "77027ab3",
   "metadata": {},
   "outputs": [],
   "source": [
    "#pip install ibm-db"
   ]
  },
  {
   "cell_type": "code",
   "execution_count": null,
   "id": "2bd03b6b",
   "metadata": {},
   "outputs": [],
   "source": []
  },
  {
   "cell_type": "code",
   "execution_count": null,
   "id": "70ba2471",
   "metadata": {},
   "outputs": [],
   "source": []
  },
  {
   "cell_type": "code",
   "execution_count": null,
   "id": "f950b557",
   "metadata": {},
   "outputs": [],
   "source": []
  },
  {
   "cell_type": "code",
   "execution_count": null,
   "id": "b8a158ae",
   "metadata": {},
   "outputs": [],
   "source": []
  },
  {
   "cell_type": "code",
   "execution_count": null,
   "id": "7587ea6b",
   "metadata": {},
   "outputs": [],
   "source": []
  },
  {
   "cell_type": "code",
   "execution_count": null,
   "id": "da0d479f",
   "metadata": {},
   "outputs": [],
   "source": []
  }
 ],
 "metadata": {
  "kernelspec": {
   "display_name": "Python 3 (ipykernel)",
   "language": "python",
   "name": "python3"
  },
  "language_info": {
   "codemirror_mode": {
    "name": "ipython",
    "version": 3
   },
   "file_extension": ".py",
   "mimetype": "text/x-python",
   "name": "python",
   "nbconvert_exporter": "python",
   "pygments_lexer": "ipython3",
   "version": "3.9.12"
  }
 },
 "nbformat": 4,
 "nbformat_minor": 5
}
